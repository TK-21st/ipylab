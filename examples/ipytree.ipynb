{
 "cells": [
  {
   "cell_type": "code",
   "execution_count": null,
   "metadata": {},
   "outputs": [],
   "source": [
    "import os\n",
    "\n",
    "from fnmatch import fnmatch\n",
    "from pathlib import PurePath"
   ]
  },
  {
   "cell_type": "code",
   "execution_count": null,
   "metadata": {},
   "outputs": [],
   "source": [
    "EXCLUDES = {\n",
    "    \".git\",\n",
    "    \".github\",\n",
    "    \".vscode\",\n",
    "    \"build\",\n",
    "    \"dist\",\n",
    "    \"lib\",\n",
    "    \"node_modules\",\n",
    "    \"__pycache__\",\n",
    "    \".ipynb_checkpoints\"\n",
    "}"
   ]
  },
  {
   "cell_type": "code",
   "execution_count": null,
   "metadata": {},
   "outputs": [],
   "source": [
    "def collect_files(root_path='..'):\n",
    "    files = []\n",
    "    for dirpath, dirnames, filenames in os.walk(root_path, followlinks=True):\n",
    "        dirnames[:] = [d for d in dirnames if d not in EXCLUDES]\n",
    "        for f in filenames:\n",
    "            fullpath = PurePath(dirpath).relative_to(root_path).joinpath(f)\n",
    "\n",
    "            if fullpath.parts not in files:\n",
    "                files.append(fullpath.parts)\n",
    "    files.sort()\n",
    "    return files"
   ]
  },
  {
   "cell_type": "code",
   "execution_count": null,
   "metadata": {},
   "outputs": [],
   "source": [
    "ls = collect_files()"
   ]
  },
  {
   "cell_type": "code",
   "execution_count": null,
   "metadata": {},
   "outputs": [],
   "source": [
    "ls[:10]"
   ]
  },
  {
   "cell_type": "code",
   "execution_count": null,
   "metadata": {},
   "outputs": [],
   "source": [
    "tree = {}\n",
    "for f in ls:\n",
    "    node = tree\n",
    "    for part in f:\n",
    "        if part not in node:\n",
    "            node[part] = {}\n",
    "        node = node[part]"
   ]
  },
  {
   "cell_type": "code",
   "execution_count": null,
   "metadata": {},
   "outputs": [],
   "source": [
    "from ipytree import Node, Tree"
   ]
  },
  {
   "cell_type": "code",
   "execution_count": null,
   "metadata": {},
   "outputs": [],
   "source": [
    "def create_tree_widget(root, path, depth=0):\n",
    "    node = Tree() if depth == 0 else Node()\n",
    "    for name, children in root.items():\n",
    "        fullpath = path + [name]\n",
    "        if len(children) == 0:\n",
    "            leaf = Node(name)\n",
    "            leaf.icon = 'file'\n",
    "            leaf.icon_style = 'warning'\n",
    "            node.add_node(leaf)\n",
    "        else:\n",
    "            subtree = create_tree_widget(children, fullpath, depth + 1)\n",
    "            subtree.icon = 'folder'\n",
    "            subtree.icon_style = 'info'\n",
    "            subtree.name = name\n",
    "            node.add_node(subtree)\n",
    "    return node"
   ]
  },
  {
   "cell_type": "code",
   "execution_count": null,
   "metadata": {},
   "outputs": [],
   "source": [
    "file_tree = create_tree_widget(tree, [])"
   ]
  },
  {
   "cell_type": "code",
   "execution_count": null,
   "metadata": {},
   "outputs": [],
   "source": [
    "from ipylab import JupyterFrontEnd, Panel\n",
    "from ipywidgets import Button, Layout, HBox, VBox"
   ]
  },
  {
   "cell_type": "code",
   "execution_count": null,
   "metadata": {},
   "outputs": [],
   "source": [
    "app = JupyterFrontEnd()"
   ]
  },
  {
   "cell_type": "code",
   "execution_count": null,
   "metadata": {},
   "outputs": [],
   "source": [
    "open_button = Button(description='Open', button_style='success', icon='folder')\n",
    "expand_button = Button(description='Expand', button_style='info', icon='chevron-down')\n",
    "collapse_button = Button(description='Collapse', button_style='info', icon='chevron-right')\n",
    "hbox = HBox([\n",
    "    open_button,\n",
    "    expand_button,\n",
    "    collapse_button\n",
    "], layout=Layout(overflow='unset'))\n",
    "hbox"
   ]
  },
  {
   "cell_type": "code",
   "execution_count": null,
   "metadata": {},
   "outputs": [],
   "source": [
    "def expand_tree(tree, expand=True):\n",
    "    for node in tree.nodes:\n",
    "        node.opened = expand\n",
    "\n",
    "def on_expand_click(b):\n",
    "    expand_tree(file_tree)\n",
    "\n",
    "        \n",
    "def on_collapse_click(b):\n",
    "    expand_tree(file_tree, False)\n",
    "\n",
    "expand_button.on_click(on_expand_click)\n",
    "collapse_button.on_click(on_collapse_click)"
   ]
  },
  {
   "cell_type": "code",
   "execution_count": null,
   "metadata": {},
   "outputs": [],
   "source": [
    "panel = Panel(children=[hbox, file_tree])\n",
    "panel.title.label = 'Tree Viewer'\n",
    "panel.title.icon_class = 'jp-FolderIcon'\n",
    "panel.layout = Layout(overflow='auto')"
   ]
  },
  {
   "cell_type": "code",
   "execution_count": null,
   "metadata": {},
   "outputs": [],
   "source": [
    "app.shell.add(panel, 'left', {'rank': 10000})"
   ]
  },
  {
   "cell_type": "code",
   "execution_count": null,
   "metadata": {},
   "outputs": [],
   "source": [
    "file_tree.nodes[9].opened"
   ]
  }
 ],
 "metadata": {
  "kernelspec": {
   "display_name": "Python 3",
   "language": "python",
   "name": "python3"
  },
  "language_info": {
   "codemirror_mode": {
    "name": "ipython",
    "version": 3
   },
   "file_extension": ".py",
   "mimetype": "text/x-python",
   "name": "python",
   "nbconvert_exporter": "python",
   "pygments_lexer": "ipython3",
   "version": "3.8.2"
  },
  "widgets": {
   "application/vnd.jupyter.widget-state+json": {
    "state": {},
    "version_major": 2,
    "version_minor": 0
   }
  }
 },
 "nbformat": 4,
 "nbformat_minor": 4
}
